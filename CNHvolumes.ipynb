{
 "cells": [
  {
   "cell_type": "code",
   "execution_count": 163,
   "id": "28504e99",
   "metadata": {},
   "outputs": [
    {
     "data": {
      "text/html": [
       "<div>\n",
       "<style scoped>\n",
       "    .dataframe tbody tr th:only-of-type {\n",
       "        vertical-align: middle;\n",
       "    }\n",
       "\n",
       "    .dataframe tbody tr th {\n",
       "        vertical-align: top;\n",
       "    }\n",
       "\n",
       "    .dataframe thead th {\n",
       "        text-align: right;\n",
       "    }\n",
       "</style>\n",
       "<table border=\"1\" class=\"dataframe\">\n",
       "  <thead>\n",
       "    <tr style=\"text-align: right;\">\n",
       "      <th></th>\n",
       "      <th>Underlying</th>\n",
       "      <th>Type</th>\n",
       "      <th>Strike</th>\n",
       "      <th>Expiry</th>\n",
       "      <th>Notional</th>\n",
       "      <th>Curr</th>\n",
       "      <th>Premium</th>\n",
       "      <th>Curr.1</th>\n",
       "      <th>Style</th>\n",
       "      <th>Code</th>\n",
       "      <th>Clr</th>\n",
       "      <th>Trd Time</th>\n",
       "    </tr>\n",
       "  </thead>\n",
       "  <tbody>\n",
       "    <tr>\n",
       "      <th>0</th>\n",
       "      <td>USD CNY Vanilla Option</td>\n",
       "      <td>C</td>\n",
       "      <td>6.650</td>\n",
       "      <td>02/01/22</td>\n",
       "      <td>30,000,000.00</td>\n",
       "      <td>USD</td>\n",
       "      <td>669,900.00</td>\n",
       "      <td>USD</td>\n",
       "      <td>EU</td>\n",
       "      <td>TR</td>\n",
       "      <td>U</td>\n",
       "      <td>02/01/2021 13:41:16</td>\n",
       "    </tr>\n",
       "    <tr>\n",
       "      <th>1</th>\n",
       "      <td>USD CNY Vanilla Option</td>\n",
       "      <td>C</td>\n",
       "      <td>7.210</td>\n",
       "      <td>02/01/22</td>\n",
       "      <td>30,000,000.00</td>\n",
       "      <td>USD</td>\n",
       "      <td>182,100.00</td>\n",
       "      <td>USD</td>\n",
       "      <td>EU</td>\n",
       "      <td>TR</td>\n",
       "      <td>U</td>\n",
       "      <td>02/01/2021 13:41:16</td>\n",
       "    </tr>\n",
       "    <tr>\n",
       "      <th>2</th>\n",
       "      <td>USD CNY Vanilla Option</td>\n",
       "      <td>C</td>\n",
       "      <td>6.555</td>\n",
       "      <td>02/11/21</td>\n",
       "      <td>50,000,000.00</td>\n",
       "      <td>USD</td>\n",
       "      <td>32,550.00</td>\n",
       "      <td>USD</td>\n",
       "      <td>EU</td>\n",
       "      <td>TR</td>\n",
       "      <td>U</td>\n",
       "      <td>02/01/2021 11:49:56</td>\n",
       "    </tr>\n",
       "    <tr>\n",
       "      <th>3</th>\n",
       "      <td>USD CNY Vanilla Option</td>\n",
       "      <td>P</td>\n",
       "      <td>6.550</td>\n",
       "      <td>02/10/21</td>\n",
       "      <td>50,000,000.00</td>\n",
       "      <td>USD</td>\n",
       "      <td>29,650.00</td>\n",
       "      <td>USD</td>\n",
       "      <td>EU</td>\n",
       "      <td>TR</td>\n",
       "      <td>U</td>\n",
       "      <td>02/01/2021 11:45:50</td>\n",
       "    </tr>\n",
       "    <tr>\n",
       "      <th>4</th>\n",
       "      <td>USD CNY Vanilla Option</td>\n",
       "      <td>P</td>\n",
       "      <td>6.550</td>\n",
       "      <td>02/10/21</td>\n",
       "      <td>50,000,000.00</td>\n",
       "      <td>USD</td>\n",
       "      <td>29,650.00</td>\n",
       "      <td>USD</td>\n",
       "      <td>EU</td>\n",
       "      <td>TE</td>\n",
       "      <td>U</td>\n",
       "      <td>02/01/2021 11:45:50</td>\n",
       "    </tr>\n",
       "  </tbody>\n",
       "</table>\n",
       "</div>"
      ],
      "text/plain": [
       "               Underlying Type  Strike    Expiry        Notional Curr  \\\n",
       "0  USD CNY Vanilla Option    C   6.650  02/01/22  30,000,000.00   USD   \n",
       "1  USD CNY Vanilla Option    C   7.210  02/01/22  30,000,000.00   USD   \n",
       "2  USD CNY Vanilla Option    C   6.555  02/11/21  50,000,000.00   USD   \n",
       "3  USD CNY Vanilla Option    P   6.550  02/10/21  50,000,000.00   USD   \n",
       "4  USD CNY Vanilla Option    P   6.550  02/10/21  50,000,000.00   USD   \n",
       "\n",
       "       Premium Curr.1 Style Code Clr             Trd Time  \n",
       "0  669,900.00     USD    EU   TR   U  02/01/2021 13:41:16  \n",
       "1  182,100.00     USD    EU   TR   U  02/01/2021 13:41:16  \n",
       "2   32,550.00     USD    EU   TR   U  02/01/2021 11:49:56  \n",
       "3   29,650.00     USD    EU   TR   U  02/01/2021 11:45:50  \n",
       "4   29,650.00     USD    EU   TE   U  02/01/2021 11:45:50  "
      ]
     },
     "execution_count": 163,
     "metadata": {},
     "output_type": "execute_result"
    }
   ],
   "source": [
    "import seaborn as sns\n",
    "import pandas as pd\n",
    "import numpy as np\n",
    "import matplotlib.pyplot as plt\n",
    "from datetime import datetime\n",
    "from dateutil.relativedelta import relativedelta\n",
    "from xbbg import blp\n",
    "\n",
    "\n",
    "\n",
    "df = pd.read_csv(\"cnhsdr2021-2022.csv\")\n",
    "df.head()"
   ]
  },
  {
   "cell_type": "code",
   "execution_count": 164,
   "id": "829289f9",
   "metadata": {},
   "outputs": [
    {
     "name": "stdout",
     "output_type": "stream",
     "text": [
      "<class 'pandas.core.frame.DataFrame'>\n",
      "Int64Index: 38417 entries, 0 to 38416\n",
      "Data columns (total 12 columns):\n",
      " #   Column      Non-Null Count  Dtype  \n",
      "---  ------      --------------  -----  \n",
      " 0   Underlying  38417 non-null  object \n",
      " 1   Type        38417 non-null  object \n",
      " 2   Strike      38417 non-null  float64\n",
      " 3   Expiry      38417 non-null  object \n",
      " 4   Notional    38417 non-null  object \n",
      " 5   Curr        38417 non-null  object \n",
      " 6   Premium     38417 non-null  object \n",
      " 7   Curr.1      38417 non-null  object \n",
      " 8   Style       38417 non-null  object \n",
      " 9   Code        38417 non-null  object \n",
      " 10  Clr         38417 non-null  object \n",
      " 11  Trd Time    38417 non-null  object \n",
      "dtypes: float64(1), object(11)\n",
      "memory usage: 3.8+ MB\n"
     ]
    }
   ],
   "source": [
    "val=df.dropna()\n",
    "\n",
    "val.info()"
   ]
  },
  {
   "cell_type": "code",
   "execution_count": 165,
   "id": "5db63546",
   "metadata": {},
   "outputs": [],
   "source": [
    "def ccy_pair(in_str):\n",
    "    ccy_pair = in_str[0:3]+in_str[4:7]\n",
    "    return ccy_pair\n"
   ]
  },
  {
   "cell_type": "code",
   "execution_count": 166,
   "id": "5f6c5b70",
   "metadata": {},
   "outputs": [],
   "source": [
    "val[\"CCY_PAIR\"] = df['Underlying'].apply(lambda pair: ccy_pair(pair))\n",
    "#val[\"Trd Time\"]=val[\"Trd Time\"].apply(lambda x:x[0:10])\n",
    "#print(val[\"Trd Time\"])\n",
    "val[\"Trd Time\"]=val[\"Trd Time\"].apply(lambda x:datetime.strptime(x, '%m/%d/%Y %H:%M:%S').date())\n",
    "val[\"Expiry\"]=val[\"Expiry\"].apply(lambda x:datetime.strptime(x,'%m/%d/%y'))\n",
    "#val[\"Strike\"]=val[\"Strike\"].apply(lambda x:x.replace(\",\",\"\"))\n",
    "val[\"Strike\"]=val[\"Strike\"].apply(lambda x:float(x))\n",
    "val[\"Notional\"]=val[\"Notional\"].apply(lambda x:x.replace(\",\",\"\"))\n",
    "val[\"Notional\"]=val[\"Notional\"].apply(lambda x: float(x))\n"
   ]
  },
  {
   "cell_type": "code",
   "execution_count": null,
   "id": "144b9f17",
   "metadata": {},
   "outputs": [],
   "source": [
    "\n"
   ]
  },
  {
   "cell_type": "code",
   "execution_count": 168,
   "id": "d14fea07",
   "metadata": {},
   "outputs": [
    {
     "name": "stdout",
     "output_type": "stream",
     "text": [
      "                Notional  Trade Date\n",
      "Trd Time                            \n",
      "2021-01-03  3.750690e+09  2021-01-03\n",
      "2021-01-04  1.289740e+10  2021-01-04\n",
      "2021-01-05  1.111219e+10  2021-01-05\n",
      "2021-01-06  1.040755e+10  2021-01-06\n",
      "2021-01-07  7.799310e+09  2021-01-07\n",
      "...                  ...         ...\n",
      "2022-05-18  9.599391e+09  2022-05-18\n",
      "2022-05-19  1.213930e+10  2022-05-19\n",
      "2022-05-20  9.723644e+09  2022-05-20\n",
      "2022-05-22  1.985000e+09  2022-05-22\n",
      "2022-05-23  4.107000e+09  2022-05-23\n",
      "\n",
      "[433 rows x 2 columns]\n"
     ]
    }
   ],
   "source": [
    "by_date = val.groupby(['Trd Time']).sum()[\"Notional\"]\n",
    "by_date=pd.DataFrame({\"Notional\": by_date})\n",
    "by_date[\"Trade Date\"] = by_date.index\n",
    "\n",
    "by_date[\"Notional\"]=by_date[\"Notional\"].apply(lambda x: float(x))\n",
    "print(by_date)\n",
    "\n",
    "val[\"Year\"] = val['Trd Time'].apply(lambda x: str(x.year))\n",
    "val[\"Month\"] = val['Trd Time'].apply(lambda x: str(x.month))\n"
   ]
  },
  {
   "cell_type": "code",
   "execution_count": 173,
   "id": "0227ff57",
   "metadata": {},
   "outputs": [
    {
     "name": "stdout",
     "output_type": "stream",
     "text": [
      "                Notional Trade Month\n",
      "Trd Time                            \n",
      "2021-01-31  1.495046e+11  2021-01-31\n",
      "2021-02-28  1.111250e+11  2021-02-28\n",
      "2021-03-31  1.124964e+11  2021-03-31\n",
      "2021-04-30  6.577049e+10  2021-04-30\n",
      "2021-05-31  9.775997e+10  2021-05-31\n",
      "2021-06-30  9.066185e+10  2021-06-30\n",
      "2021-07-31  1.072288e+11  2021-07-31\n",
      "2021-08-31  8.516212e+10  2021-08-31\n",
      "2021-09-30  9.790395e+10  2021-09-30\n",
      "2021-10-31  8.513886e+10  2021-10-31\n",
      "2021-11-30  8.245215e+10  2021-11-30\n",
      "2021-12-31  5.750255e+10  2021-12-31\n",
      "2022-01-31  1.094972e+11  2022-01-31\n",
      "2022-02-28  6.820736e+10  2022-02-28\n",
      "2022-03-31  9.436142e+10  2022-03-31\n",
      "2022-04-30  1.837120e+11  2022-04-30\n",
      "2022-05-31  1.625341e+11  2022-05-31\n"
     ]
    }
   ],
   "source": [
    "val.index = val[\"Trd Time\"]\n",
    "val.index = pd.to_datetime(val.index)\n",
    "by_month = val.groupby(pd.Grouper(freq='M')).sum()[\"Notional\"]\n",
    "\n",
    "by_month = pd.DataFrame({\"Notional\": by_month})\n",
    "by_month[\"Trade Month\"] = by_month.index\n",
    "by_month[\"Trade Month\"] = by_month[\"Trade Month\"].apply(lambda x: x.date())\n",
    "\n",
    "print(by_month)"
   ]
  },
  {
   "cell_type": "code",
   "execution_count": 174,
   "id": "db39ccd4",
   "metadata": {},
   "outputs": [
    {
     "data": {
      "image/png": "[encoded data removed]",
      "text/plain": [
       "<Figure size 1152x1152 with 1 Axes>"
      ]
     },
     "metadata": {
      "needs_background": "light"
     },
     "output_type": "display_data"
    }
   ],
   "source": [
    "plt.figure(figsize=(16,16))\n",
    "plt.xticks(rotation=45)\n",
    "\n",
    "plot = sns.barplot(x=\"Trade Date\", y = \"Notional\", data = by_date, palette = \"flare_r\")\n",
    "maximumnotional = by_date.max()\n",
    "maximum=maximumnotional[0]\n",
    "y_range = np.arange(0, maximum, maximum/10)\n",
    "plt.xticks(np.arange(0, len(by_date)+1,10))\n",
    "plt.yticks(y_range)\n",
    "plt.show()"
   ]
  },
  {
   "cell_type": "code",
   "execution_count": 179,
   "id": "7d43f047",
   "metadata": {},
   "outputs": [
    {
     "data": {
      "image/png": "[encoded data removed]",
      "text/plain": [
       "<Figure size 1152x1152 with 1 Axes>"
      ]
     },
     "metadata": {
      "needs_background": "light"
     },
     "output_type": "display_data"
    }
   ],
   "source": [
    "plt.figure(figsize=(16,16))\n",
    "plt.xticks(rotation=45)\n",
    "\n",
    "plot = sns.barplot(x = \"Trade Month\", y = \"Notional\", data = by_month, palette = \"flare_r\")\n",
    "maximumnotional = by_month.max()\n",
    "maximum=maximumnotional[0]\n",
    "y_range = np.arange(0, maximum, maximum/10)\n",
    "plt.ylabel(\"Notional USD in 100BB\")\n",
    "plt.yticks(y_range)\n",
    "plt.show()"
   ]
  },
  {
   "cell_type": "code",
   "execution_count": null,
   "id": "d1114aeb",
   "metadata": {},
   "outputs": [],
   "source": []
  },
  {
   "cell_type": "code",
   "execution_count": null,
   "id": "c6b13aee",
   "metadata": {},
   "outputs": [],
   "source": []
  }
 ],
 "metadata": {
  "kernelspec": {
   "display_name": "Python 3 (ipykernel)",
   "language": "python",
   "name": "python3"
  },
  "language_info": {
   "codemirror_mode": {
    "name": "ipython",
    "version": 3
   },
   "file_extension": ".py",
   "mimetype": "text/x-python",
   "name": "python",
   "nbconvert_exporter": "python",
   "pygments_lexer": "ipython3",
   "version": "3.10.1"
  }
 },
 "nbformat": 4,
 "nbformat_minor": 5
}

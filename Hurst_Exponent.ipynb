{
 "cells": [
  {
   "cell_type": "code",
   "execution_count": 47,
   "id": "83498f00",
   "metadata": {},
   "outputs": [],
   "source": [
    "import os\n",
    "import datetime\n",
    "from dateutil.relativedelta import relativedelta\n",
    "from datetime import timedelta\n",
    "\n",
    "from xbbg import blp\n",
    "import IPython\n",
    "import IPython.display\n",
    "import matplotlib as mpl\n",
    "import matplotlib.pyplot as plt\n",
    "import numpy as np\n",
    "\n",
    "import pandas as pd\n",
    "import seaborn as sns\n",
    "\n",
    "from hurst import compute_Hc\n"
   ]
  },
  {
   "cell_type": "code",
   "execution_count": 48,
   "id": "77ceb262",
   "metadata": {},
   "outputs": [],
   "source": [
    "def bdh_intra(tickers = None, start_date = datetime.datetime.now()-timedelta(days = 365), end_date = datetime.datetime.now(), \n",
    "              typ='TRADE', freq = 360, **kwargs) -> pd.DataFrame:\n",
    "\n",
    "    logger = logs.get_logger(bdh_intra, **kwargs)\n",
    "    while conn.bbg_session(**kwargs).tryNextEvent(): pass\n",
    "    request = process.create_request(\n",
    "        service='//blp/refdata',\n",
    "        request='IntradayBarRequest',\n",
    "        settings = [\n",
    "            ('security', tickers),\n",
    "            ('eventType', typ),\n",
    "            ('interval', freq),\n",
    "            ('startDateTime', start_date),\n",
    "            ('endDateTime', end_date)\n",
    "        ],\n",
    "        **kwargs,\n",
    "    )\n",
    "    logger.debug(f'Sending request to Bloomberg ...\\n{request}')\n",
    "    conn.send_request(request=request, **kwargs)\n",
    "\n",
    "    res = pd.DataFrame(process.rec_events(process.process_bar, **kwargs))\n",
    "    return res\n",
    "    "
   ]
  },
  {
   "cell_type": "code",
   "execution_count": 55,
   "id": "5945046d",
   "metadata": {},
   "outputs": [],
   "source": [
    "def hist_data(tickers, start_date, end_date, condition = \"PX_CLOSE_1D\", log = False):\n",
    "    # Return a matrix of prices, with modifiable pricing condition\n",
    "    data = blp.bdh(tickers, condition, start_date,end_date)\n",
    "    data = data.dropna()\n",
    "    if log == True:\n",
    "        data = data.apply(lambda x: np.log(x))\n",
    "    return data"
   ]
  },
  {
   "cell_type": "code",
   "execution_count": 56,
   "id": "8b151748",
   "metadata": {},
   "outputs": [],
   "source": [
    "end_date = datetime.datetime.today()\n",
    "start_date = end_date - timedelta(days = 10000)\n",
    "\n",
    "data = hist_data(tickers = \"USDJPY CURNCY\",\n",
    "                start_date = start_date,\n",
    "                end_date = end_date, log = True)"
   ]
  },
  {
   "cell_type": "code",
   "execution_count": 57,
   "id": "8f6dd9d6",
   "metadata": {},
   "outputs": [
    {
     "name": "stdout",
     "output_type": "stream",
     "text": [
      "           USDJPY CURNCY\n",
      "             PX_CLOSE_1D\n",
      "1995-07-03      4.438289\n",
      "1995-07-04      4.439352\n",
      "1995-07-05      4.440178\n",
      "1995-07-06      4.441238\n",
      "1995-07-07      4.442298\n",
      "...                  ...\n",
      "2022-11-11      4.948618\n",
      "2022-11-14      4.933106\n",
      "2022-11-15      4.940856\n",
      "2022-11-16      4.936486\n",
      "2022-11-17      4.938065\n",
      "\n",
      "[7144 rows x 1 columns]\n"
     ]
    }
   ],
   "source": [
    "print(data)"
   ]
  },
  {
   "cell_type": "code",
   "execution_count": 58,
   "id": "59e3ddf1",
   "metadata": {},
   "outputs": [],
   "source": [
    "def get_hurst_exponent(time_series, max_lag=20):\n",
    "    \"\"\"Returns the Hurst Exponent of the time series\"\"\"\n",
    "    \n",
    "    lags = range(2, max_lag)\n",
    "\n",
    "    # variances of the lagged differences\n",
    "    tau = [np.std(np.subtract(time_series[lag:], time_series[:-lag])) for lag in lags]\n",
    "\n",
    "    # calculate the slope of the log plot -> the Hurst Exponent\n",
    "    reg = np.polyfit(np.log(lags), np.log(tau), 1)\n",
    "\n",
    "    return reg[0]"
   ]
  },
  {
   "cell_type": "code",
   "execution_count": 66,
   "id": "2608fb85",
   "metadata": {},
   "outputs": [],
   "source": [
    "def hurst(price_series, name, lags):\n",
    "    H, c, data = compute_Hc(price_series, kind = \"change\", simplified = True)\n",
    "    f, ax = plt.subplots(figsize = (10,10))\n",
    "    ax.plot(data[0], c*data[0]**H, color=\"deepskyblue\")\n",
    "    ax.scatter(data[0], data[1], color=\"purple\")\n",
    "    ax.set_xscale('log')\n",
    "    ax.set_yscale('log')\n",
    "    ax.set_xlabel('Time interval')\n",
    "    ax.set_ylabel('R/S ratio')\n",
    "    ax.grid(True)\n",
    "    ax.set_title(\"%s Hurst and R/S Analysis\\n%s - %s\" %(name, price_series.index[0], price_series.index[-1]))\n",
    "    plt.show()\n",
    "\n",
    "    for lag in lags:\n",
    "        hurst_exp = get_hurst_exponent(price_series.values, lag)\n",
    "        print(f\"Hurst exponent with {lag} lags: {hurst_exp:.4f}\")"
   ]
  },
  {
   "cell_type": "code",
   "execution_count": 67,
   "id": "5b925838",
   "metadata": {},
   "outputs": [
    {
     "data": {
      "image/png": "[encoded data removed]",
      "text/plain": [
       "<Figure size 720x720 with 1 Axes>"
      ]
     },
     "metadata": {
      "needs_background": "light"
     },
     "output_type": "display_data"
    },
    {
     "name": "stdout",
     "output_type": "stream",
     "text": [
      "Hurst exponent with 7 lags: 0.4910\n",
      "Hurst exponent with 14 lags: 0.4911\n",
      "Hurst exponent with 28 lags: 0.4950\n",
      "Hurst exponent with 90 lags: 0.5166\n",
      "Hurst exponent with 360 lags: 0.5066\n"
     ]
    }
   ],
   "source": [
    "hurst(data, \"USDJPY\", lags = [7, 14, 28, 90, 360])"
   ]
  },
  {
   "cell_type": "code",
   "execution_count": null,
   "id": "e6c727a3",
   "metadata": {},
   "outputs": [],
   "source": []
  },
  {
   "cell_type": "code",
   "execution_count": null,
   "id": "b2320938",
   "metadata": {},
   "outputs": [],
   "source": []
  }
 ],
 "metadata": {
  "kernelspec": {
   "display_name": "Python 3 (ipykernel)",
   "language": "python",
   "name": "python3"
  },
  "language_info": {
   "codemirror_mode": {
    "name": "ipython",
    "version": 3
   },
   "file_extension": ".py",
   "mimetype": "text/x-python",
   "name": "python",
   "nbconvert_exporter": "python",
   "pygments_lexer": "ipython3",
   "version": "3.10.1"
  }
 },
 "nbformat": 4,
 "nbformat_minor": 5
}
